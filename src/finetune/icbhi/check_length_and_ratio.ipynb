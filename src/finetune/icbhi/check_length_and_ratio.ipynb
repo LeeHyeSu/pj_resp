{
 "cells": [
  {
   "cell_type": "code",
   "execution_count": 11,
   "id": "19e9d5a7-fa0a-4fa2-9dbd-cafabc82df0b",
   "metadata": {},
   "outputs": [],
   "source": [
    "import json\n",
    "import numpy as np\n",
    "import pandas as pd\n",
    "from collections import defaultdict"
   ]
  },
  {
   "cell_type": "markdown",
   "id": "32719d28-40c9-467f-a04f-571dcbca36a1",
   "metadata": {},
   "source": [
    "## Check Official Train/Test Length"
   ]
  },
  {
   "cell_type": "code",
   "execution_count": 12,
   "id": "cb782146-8cba-4059-ad0b-59ca9fda3d46",
   "metadata": {},
   "outputs": [],
   "source": [
    "official_split_txt = '/workspace/pj_resp/ssast/src/finetune/icbhi/data/official_split.txt'\n",
    "lines = open(official_split_txt).read().splitlines()\n",
    "train_set = []\n",
    "eval_set = []\n",
    "\n",
    "for line in lines:\n",
    "    basename, fold = line.strip().split('\\t')\n",
    "    if fold == 'train':\n",
    "        train_set.append(basename)\n",
    "    else:\n",
    "        eval_set.append(basename)"
   ]
  },
  {
   "cell_type": "code",
   "execution_count": 13,
   "id": "0e48edd7-a776-4a41-878f-06cb2de52af3",
   "metadata": {},
   "outputs": [
    {
     "name": "stdout",
     "output_type": "stream",
     "text": [
      "Train Set Length: 539 (58.6)\n",
      "Test Set Length: 381 (41.4)\n",
      "Total Length: 920\n"
     ]
    }
   ],
   "source": [
    "len_train_set = len(train_set)\n",
    "len_test_set = len(eval_set)\n",
    "len_all = len_train_set + len_test_set\n",
    "\n",
    "print('Train Set Length:', len_train_set, f'({round(len_train_set/len_all*100,1)})')\n",
    "print('Test Set Length:', len_test_set, f'({round(len_test_set/len_all*100,1)})')\n",
    "print('Total Length:', len_train_set+len_test_set)"
   ]
  },
  {
   "cell_type": "markdown",
   "id": "54e64c4c-d6a1-48dc-a9d2-2815d2b8d2cc",
   "metadata": {},
   "source": [
    "## Check Official Train/Test Segment Length"
   ]
  },
  {
   "cell_type": "code",
   "execution_count": 14,
   "id": "70e4611e-8179-44c8-97ab-63d4a777e7b9",
   "metadata": {},
   "outputs": [],
   "source": [
    "train_json_path = '/workspace/pj_resp/ssast/src/finetune/icbhi/data/icbhi_train.json'\n",
    "test_json_path = '/workspace/pj_resp/ssast/src/finetune/icbhi/data/icbhi_eval.json'\n",
    "\n",
    "with open(train_json_path, 'r') as f:\n",
    "    train_json = json.load(f)\n",
    "    \n",
    "with open(test_json_path, 'r') as f:\n",
    "    test_json = json.load(f)"
   ]
  },
  {
   "cell_type": "code",
   "execution_count": 19,
   "id": "e193e4ac-ff9d-411a-9a0c-076e86ea2900",
   "metadata": {},
   "outputs": [
    {
     "name": "stdout",
     "output_type": "stream",
     "text": [
      "Train Segment Length: 4142 (60.0)\n",
      "Test Segment Length: 2756 (40.0)\n",
      "Total Length: 6898\n"
     ]
    }
   ],
   "source": [
    "len_train_seg = len(train_json['data'])\n",
    "len_test_seg = len(test_json['data'])\n",
    "len_all = len_train_seg + len_test_seg\n",
    "\n",
    "print('Train Segment Length:', len_train_seg, f'({round(len_train_seg/len_all*100,1)})')\n",
    "print('Test Segment Length:', len_test_seg, f'({round(len_test_seg/len_all*100,1)})')\n",
    "print('Total Length:', len_train_seg+len_test_seg)"
   ]
  },
  {
   "cell_type": "markdown",
   "id": "375567e8-0944-4a28-85b8-8872a9351d33",
   "metadata": {},
   "source": [
    "## Check Label Ratio"
   ]
  },
  {
   "cell_type": "code",
   "execution_count": 16,
   "id": "b3eafff8-6605-4d34-a02b-231ca033c54b",
   "metadata": {},
   "outputs": [],
   "source": [
    "train_lb_dict = defaultdict(int)\n",
    "test_lb_dict = defaultdict(int)\n",
    "\n",
    "for i in range(len_train_seg):\n",
    "    label = train_json['data'][i]['labels']\n",
    "    train_lb_dict[label] += 1\n",
    "    \n",
    "for i in range(len_test_seg):\n",
    "    label = test_json['data'][i]['labels']\n",
    "    test_lb_dict[label] += 1"
   ]
  },
  {
   "cell_type": "code",
   "execution_count": 17,
   "id": "f9ea9be2-43ec-422e-92d6-170ea7d7e83b",
   "metadata": {},
   "outputs": [
    {
     "name": "stdout",
     "output_type": "stream",
     "text": [
      "Train Segment \"Normal\" count: 2063 (49.8)\n",
      "Train Segment \"Crackle&Wheezing\" count: 363 (8.8)\n",
      "Train Segment \"Crackle\" count: 1215 (29.3)\n",
      "Train Segment \"Wheezing\" count: 501 (12.1)\n"
     ]
    }
   ],
   "source": [
    "print('Train Segment \"Normal\" count:', train_lb_dict['normal'], f\"({round(train_lb_dict['normal']/len_train_seg*100,1)})\")\n",
    "print('Train Segment \"Crackle&Wheezing\" count:', train_lb_dict['crackle&wheezing'], f\"({round(train_lb_dict['crackle&wheezing']/len_train_seg*100,1)})\")\n",
    "print('Train Segment \"Crackle\" count:', train_lb_dict['crackle'], f\"({round(train_lb_dict['crackle']/len_train_seg*100,1)})\")\n",
    "print('Train Segment \"Wheezing\" count:', train_lb_dict['wheezing'], f\"({round(train_lb_dict['wheezing']/len_train_seg*100,1)})\")"
   ]
  },
  {
   "cell_type": "code",
   "execution_count": 18,
   "id": "c2950266-3ef8-4011-a507-ef767bb6e1cd",
   "metadata": {},
   "outputs": [
    {
     "name": "stdout",
     "output_type": "stream",
     "text": [
      "Test Segment \"Normal\" count: 1579 (57.3)\n",
      "Test Segment \"Crackle&Wheezing\" count: 143 (5.2)\n",
      "Test Segment \"Crackle\" count: 649 (23.5)\n",
      "Test Segment \"Wheezing\" count: 385 (14.0)\n"
     ]
    }
   ],
   "source": [
    "print('Test Segment \"Normal\" count:', test_lb_dict['normal'], f\"({round(test_lb_dict['normal']/len_test_seg*100,1)})\")\n",
    "print('Test Segment \"Crackle&Wheezing\" count:', test_lb_dict['crackle&wheezing'], f\"({round(test_lb_dict['crackle&wheezing']/len_test_seg*100,1)})\")\n",
    "print('Test Segment \"Crackle\" count:', test_lb_dict['crackle'], f\"({round(test_lb_dict['crackle']/len_test_seg*100,1)})\")\n",
    "print('Test Segment \"Wheezing\" count:', test_lb_dict['wheezing'], f\"({round(test_lb_dict['wheezing']/len_test_seg*100,1)})\")"
   ]
  },
  {
   "cell_type": "code",
   "execution_count": null,
   "id": "a3c6f8ae-57b1-4fab-bf6f-abb0e5ef6fb4",
   "metadata": {},
   "outputs": [],
   "source": []
  },
  {
   "cell_type": "code",
   "execution_count": null,
   "id": "7afe2eaf-ac09-40da-ab09-44ac48bda569",
   "metadata": {},
   "outputs": [],
   "source": []
  }
 ],
 "metadata": {
  "kernelspec": {
   "display_name": "Python 3 (ipykernel)",
   "language": "python",
   "name": "python3"
  },
  "language_info": {
   "codemirror_mode": {
    "name": "ipython",
    "version": 3
   },
   "file_extension": ".py",
   "mimetype": "text/x-python",
   "name": "python",
   "nbconvert_exporter": "python",
   "pygments_lexer": "ipython3",
   "version": "3.8.10"
  }
 },
 "nbformat": 4,
 "nbformat_minor": 5
}
